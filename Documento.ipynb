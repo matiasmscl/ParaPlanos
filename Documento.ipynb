{
 "cells": [
  {
   "cell_type": "code",
   "execution_count": 1,
   "metadata": {},
   "outputs": [],
   "source": [
    "from PIL import Image, ImageDraw, ImageFont"
   ]
  },
  {
   "cell_type": "code",
   "execution_count": 2,
   "metadata": {},
   "outputs": [],
   "source": [
    "milimetro  = 3.7795275590551 # Pixeles\n",
    "centimetro = 10 * milimetro # Pixeles"
   ]
  },
  {
   "cell_type": "code",
   "execution_count": 3,
   "metadata": {},
   "outputs": [],
   "source": [
    "# Tamaño A4 \n",
    "Ancho = 420 * milimetro\n",
    "Alto  = 297 * milimetro\n",
    "Margen_I = 3.5 * centimetro   # Izquierdo\n",
    "Margen_D = Ancho - centimetro # Derecho\n",
    "Margen_N = centimetro         # Norte\n",
    "Margen_S = Alto-centimetro    # Sur\n",
    "Tamanno_Letra = int(4*milimetro)"
   ]
  },
  {
   "cell_type": "code",
   "execution_count": 4,
   "metadata": {},
   "outputs": [],
   "source": [
    "font1 = ImageFont.truetype('arial.ttf',Tamanno_Letra)"
   ]
  },
  {
   "cell_type": "code",
   "execution_count": 5,
   "metadata": {},
   "outputs": [],
   "source": [
    "img = Image.new(\"RGB\", (int(Ancho), int(Alto)),color='white')\n",
    "img1 = ImageDraw.Draw(img)"
   ]
  },
  {
   "cell_type": "code",
   "execution_count": 6,
   "metadata": {},
   "outputs": [],
   "source": [
    "#Margen General:\n",
    "Margen = [(Margen_I,centimetro), (Margen_D, Margen_S)]\n",
    "img1.rectangle(Margen,outline =\"black\",width=int(0.3 * milimetro))"
   ]
  },
  {
   "cell_type": "code",
   "execution_count": 7,
   "metadata": {},
   "outputs": [],
   "source": [
    "Centro_h=(Margen_D-Margen_I)/2+Margen_I-Tamanno_Letra/2\n",
    "Centro_v=(Margen_S-Margen_N)/2+Margen_N-Tamanno_Letra/2"
   ]
  },
  {
   "cell_type": "code",
   "execution_count": 8,
   "metadata": {},
   "outputs": [],
   "source": [
    "#Texto General:\n",
    "img1.text((Centro_h,Centro_v),text='Texto Ejemplo',font=font1,fill=(0, 0, 0))"
   ]
  },
  {
   "cell_type": "code",
   "execution_count": 9,
   "metadata": {},
   "outputs": [],
   "source": [
    "img.show()"
   ]
  },
  {
   "cell_type": "code",
   "execution_count": 10,
   "metadata": {},
   "outputs": [],
   "source": [
    "img1 = img.save(\"Documento.pdf\")"
   ]
  },
  {
   "cell_type": "code",
   "execution_count": null,
   "metadata": {},
   "outputs": [],
   "source": []
  }
 ],
 "metadata": {
  "kernelspec": {
   "display_name": "Python 3 (ipykernel)",
   "language": "python",
   "name": "python3"
  },
  "language_info": {
   "codemirror_mode": {
    "name": "ipython",
    "version": 3
   },
   "file_extension": ".py",
   "mimetype": "text/x-python",
   "name": "python",
   "nbconvert_exporter": "python",
   "pygments_lexer": "ipython3",
   "version": "3.9.15"
  },
  "vscode": {
   "interpreter": {
    "hash": "816711b6e862b20a97b9d0a85d23bd71f1f3f80fec21106face5cac6b6fbbb62"
   }
  }
 },
 "nbformat": 4,
 "nbformat_minor": 4
}
